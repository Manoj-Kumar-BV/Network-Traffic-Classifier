{
 "cells": [
  {
   "cell_type": "code",
   "execution_count": 1,
   "metadata": {},
   "outputs": [],
   "source": [
    "from scipy.io import arff\n",
    "import pandas as pd\n",
    "from sklearn.model_selection import train_test_split\n",
    "from sklearn.preprocessing import StandardScaler, LabelEncoder\n",
    "from sklearn.linear_model import LogisticRegression\n",
    "from sklearn.ensemble import RandomForestClassifier, GradientBoostingClassifier\n",
    "from sklearn.svm import SVC\n",
    "from sklearn.metrics import classification_report"
   ]
  },
  {
   "cell_type": "code",
   "execution_count": 15,
   "metadata": {},
   "outputs": [],
   "source": [
    "# Function to load and preprocess multiple datasets\n",
    "def load_and_preprocess_datasets(file_paths):\n",
    "    # List to hold DataFrames\n",
    "    dataframes = []\n",
    "\n",
    "    # Load each ARFF file and convert to DataFrame\n",
    "    for file_path in file_paths:\n",
    "        data, meta = arff.loadarff(file_path)\n",
    "        df = pd.DataFrame(data)\n",
    "        df['class1'] = df['class1'].str.decode('utf-8')\n",
    "        dataframes.append(df)\n",
    "\n",
    "    # Concatenate all DataFrames\n",
    "    df_all = pd.concat(dataframes, ignore_index=True)\n",
    "\n",
    "    # Separate features and target variable\n",
    "    X = df_all.drop('class1', axis=1)\n",
    "    y = df_all['class1']\n",
    "\n",
    "    # Normalize the features\n",
    "    scaler = StandardScaler()\n",
    "    X_scaled = scaler.fit_transform(X)\n",
    "\n",
    "    # Encode the target variable\n",
    "    label_encoder = LabelEncoder()\n",
    "    y_encoded = label_encoder.fit_transform(y)\n",
    "\n",
    "    return X_scaled, y_encoded, label_encoder\n",
    "\n",
    "# List of ARFF file paths\n",
    "file_paths = [\n",
    "    'D:/4th semester/CN_EL/ELFinal/Scenario B-ARFF/TimeBasedFeatures-Dataset-15s-AllinOne.arff',\n",
    "    'D:/4th semester/CN_EL/ELFinal/Scenario B-ARFF/TimeBasedFeatures-Dataset-30s-AllinOne.arff',\n",
    "    'D:/4th semester/CN_EL/ELFinal/Scenario B-ARFF/TimeBasedFeatures-Dataset-120s-AllinOne.arff'  \n",
    "]"
   ]
  },
  {
   "cell_type": "code",
   "execution_count": 8,
   "metadata": {},
   "outputs": [],
   "source": [
    "# Load and preprocess the datasets\n",
    "X, y, label_encoder = load_and_preprocess_datasets(file_paths)\n",
    "\n",
    "# Split the dataset into training and testing sets\n",
    "X_train, X_test, y_train, y_test = train_test_split(X, y, test_size=0.3, random_state=42)\n",
    "\n",
    "# Initialize the models\n",
    "log_reg = LogisticRegression(max_iter=1000, random_state=42)\n",
    "random_forest = RandomForestClassifier(random_state=42)\n",
    "svm = SVC(random_state=42)\n",
    "gradient_boost = GradientBoostingClassifier(random_state=42)"
   ]
  },
  {
   "cell_type": "code",
   "execution_count": 9,
   "metadata": {},
   "outputs": [],
   "source": [
    "# Load and preprocess the datasets\n",
    "X, y, label_encoder = load_and_preprocess_datasets(file_paths)"
   ]
  },
  {
   "cell_type": "code",
   "execution_count": 10,
   "metadata": {},
   "outputs": [],
   "source": [
    "# Split the dataset into training and testing sets\n",
    "X_train, X_test, y_train, y_test = train_test_split(X, y, test_size=0.3, random_state=42)"
   ]
  },
  {
   "cell_type": "code",
   "execution_count": 11,
   "metadata": {},
   "outputs": [],
   "source": [
    "# Initialize the models\n",
    "log_reg = LogisticRegression(max_iter=1000, random_state=42)\n",
    "random_forest = RandomForestClassifier(random_state=42)\n",
    "svm = SVC(random_state=42)\n",
    "gradient_boost = GradientBoostingClassifier(random_state=42)"
   ]
  },
  {
   "cell_type": "code",
   "execution_count": 12,
   "metadata": {},
   "outputs": [],
   "source": [
    "# Train and evaluate each model\n",
    "models = {'Logistic Regression': log_reg, 'Random Forest': random_forest, 'SVM': svm, 'Gradient Boosting': gradient_boost}\n",
    "results = {}"
   ]
  },
  {
   "cell_type": "code",
   "execution_count": 13,
   "metadata": {},
   "outputs": [],
   "source": [
    "for name, model in models.items():\n",
    "    # Train the model\n",
    "    model.fit(X_train, y_train)\n",
    "    # Make predictions\n",
    "    y_pred = model.predict(X_test)\n",
    "    # Evaluate the model\n",
    "    report = classification_report(y_test, y_pred, target_names=label_encoder.classes_)\n",
    "    results[name] = report"
   ]
  },
  {
   "cell_type": "code",
   "execution_count": 14,
   "metadata": {},
   "outputs": [
    {
     "name": "stdout",
     "output_type": "stream",
     "text": [
      "Model: Logistic Regression\n",
      "              precision    recall  f1-score   support\n",
      "\n",
      "    BROWSING       0.49      0.90      0.64      4499\n",
      "        CHAT       0.58      0.05      0.10      1243\n",
      "          FT       0.64      0.13      0.21      1957\n",
      "        MAIL       0.04      0.00      0.00       761\n",
      "         P2P       0.43      0.45      0.44      1665\n",
      "   STREAMING       0.49      0.07      0.12       573\n",
      "        VOIP       0.81      0.83      0.82      2560\n",
      "\n",
      "    accuracy                           0.55     13258\n",
      "   macro avg       0.50      0.35      0.33     13258\n",
      "weighted avg       0.55      0.55      0.48     13258\n",
      "\n",
      "\n",
      "\n",
      "Model: Random Forest\n",
      "              precision    recall  f1-score   support\n",
      "\n",
      "    BROWSING       0.93      0.97      0.95      4499\n",
      "        CHAT       0.88      0.82      0.85      1243\n",
      "          FT       0.92      0.79      0.85      1957\n",
      "        MAIL       0.96      0.93      0.94       761\n",
      "         P2P       0.84      0.97      0.90      1665\n",
      "   STREAMING       0.92      0.86      0.89       573\n",
      "        VOIP       1.00      0.99      0.99      2560\n",
      "\n",
      "    accuracy                           0.93     13258\n",
      "   macro avg       0.92      0.90      0.91     13258\n",
      "weighted avg       0.93      0.93      0.92     13258\n",
      "\n",
      "\n",
      "\n",
      "Model: SVM\n",
      "              precision    recall  f1-score   support\n",
      "\n",
      "    BROWSING       0.52      0.94      0.67      4499\n",
      "        CHAT       0.85      0.05      0.10      1243\n",
      "          FT       0.61      0.19      0.29      1957\n",
      "        MAIL       0.44      0.25      0.32       761\n",
      "         P2P       0.61      0.32      0.42      1665\n",
      "   STREAMING       0.71      0.11      0.20       573\n",
      "        VOIP       0.81      0.94      0.87      2560\n",
      "\n",
      "    accuracy                           0.59     13258\n",
      "   macro avg       0.65      0.40      0.41     13258\n",
      "weighted avg       0.63      0.59      0.53     13258\n",
      "\n",
      "\n",
      "\n",
      "Model: Gradient Boosting\n",
      "              precision    recall  f1-score   support\n",
      "\n",
      "    BROWSING       0.84      0.94      0.89      4499\n",
      "        CHAT       0.74      0.63      0.68      1243\n",
      "          FT       0.80      0.62      0.70      1957\n",
      "        MAIL       0.82      0.85      0.84       761\n",
      "         P2P       0.77      0.89      0.83      1665\n",
      "   STREAMING       0.90      0.72      0.80       573\n",
      "        VOIP       1.00      0.98      0.99      2560\n",
      "\n",
      "    accuracy                           0.85     13258\n",
      "   macro avg       0.84      0.81      0.82     13258\n",
      "weighted avg       0.85      0.85      0.85     13258\n",
      "\n",
      "\n",
      "\n"
     ]
    }
   ],
   "source": [
    "# Print the results\n",
    "for model_name, metrics in results.items():\n",
    "    print(f\"Model: {model_name}\")\n",
    "    print(metrics)\n",
    "    print(\"\\n\")"
   ]
  },
  {
   "cell_type": "code",
   "execution_count": null,
   "metadata": {},
   "outputs": [],
   "source": []
  }
 ],
 "metadata": {
  "kernelspec": {
   "display_name": "Python 3",
   "language": "python",
   "name": "python3"
  },
  "language_info": {
   "codemirror_mode": {
    "name": "ipython",
    "version": 3
   },
   "file_extension": ".py",
   "mimetype": "text/x-python",
   "name": "python",
   "nbconvert_exporter": "python",
   "pygments_lexer": "ipython3",
   "version": "3.12.4"
  }
 },
 "nbformat": 4,
 "nbformat_minor": 2
}
