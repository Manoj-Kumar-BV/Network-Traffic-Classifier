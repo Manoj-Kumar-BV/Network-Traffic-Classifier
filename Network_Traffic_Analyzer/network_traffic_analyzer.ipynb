{
 "cells": [
  {
   "cell_type": "markdown",
   "metadata": {},
   "source": [
    "Import Libraries"
   ]
  },
  {
   "cell_type": "code",
   "execution_count": null,
   "metadata": {},
   "outputs": [],
   "source": [
    "import scapy.all as scapy\n",
    "from collections import defaultdict\n",
    "import matplotlib.pyplot as plt\n",
    "from IPython.display import display\n",
    "import csv\n",
    "import os\n",
    "import time"
   ]
  },
  {
   "cell_type": "markdown",
   "metadata": {},
   "source": [
    "Packet Callback function"
   ]
  },
  {
   "cell_type": "code",
   "execution_count": null,
   "metadata": {},
   "outputs": [],
   "source": [
    "# Global variables\n",
    "packet_count = 0\n",
    "protocol_count = defaultdict(int)\n",
    "packet_details = []\n",
    "\n",
    "def packet_callback(packet):\n",
    "    global packet_count\n",
    "    global packet_details\n",
    "    packet_count += 1\n",
    "    \n",
    "    if packet.haslayer(scapy.IP):\n",
    "        ip_layer = packet.getlayer(scapy.IP)\n",
    "        protocol = ip_layer.proto\n",
    "        \n",
    "        # Manual mapping of protocol numbers to names\n",
    "        protocol_names = {\n",
    "            1: \"ICMP\",\n",
    "            2: \"IGMP\",\n",
    "            6: \"TCP\",\n",
    "            17: \"UDP\",\n",
    "            41: \"IPv6\",\n",
    "            50: \"ESP\",\n",
    "            51: \"AH\",\n",
    "            58: \"ICMPv6\"\n",
    "        }\n",
    "        \n",
    "        protocol_name = protocol_names.get(protocol, \"Unknown\")\n",
    "        protocol_count[protocol_name] += 1\n",
    "\n",
    "        # Collect packet details including timestamp\n",
    "        packet_info = {\n",
    "            'Packet Number': packet_count,\n",
    "            'Source IP': ip_layer.src,\n",
    "            'Destination IP': ip_layer.dst,\n",
    "            'Protocol': protocol_name,\n",
    "            'Size (bytes)': len(packet),\n",
    "            'Time': time.strftime('%Y-%m-%d %H:%M:%S', time.localtime(packet.time))\n",
    "        }\n",
    "        packet_details.append(packet_info)\n",
    "\n",
    "        print(f\"Packet {packet_count}: {ip_layer.src} -> {ip_layer.dst} | Protocol: {protocol_name} | Size: {len(packet)} bytes | Time: {packet_info['Time']}\")\n"
   ]
  },
  {
   "cell_type": "markdown",
   "metadata": {},
   "source": [
    "Function to start Sniffing"
   ]
  },
  {
   "cell_type": "code",
   "execution_count": null,
   "metadata": {},
   "outputs": [],
   "source": [
    "def start_sniffing(interface):\n",
    "    print(f\"Starting packet capture on interface {interface}...\")\n",
    "    scapy.sniff(iface=interface, prn=packet_callback, store=0)"
   ]
  },
  {
   "cell_type": "markdown",
   "metadata": {},
   "source": [
    "Function to display Statistics"
   ]
  },
  {
   "cell_type": "code",
   "execution_count": null,
   "metadata": {},
   "outputs": [],
   "source": [
    "def display_statistics():\n",
    "    global protocol_count, packet_details\n",
    "    print(\"\\n--- Protocol Statistics ---\")\n",
    "    \n",
    "    # Print statistics to the console\n",
    "    for protocol, count in protocol_count.items():\n",
    "        print(f\"{protocol}: {count} packets\")\n",
    "    \n",
    "    # Save to CSV\n",
    "    try:\n",
    "        with open('protocol_statistics.csv', 'w', newline='') as file:\n",
    "            writer = csv.writer(file)\n",
    "            writer.writerow([\"Protocol\", \"Count\"])\n",
    "            for protocol, count in protocol_count.items():\n",
    "                writer.writerow([protocol, count])\n",
    "        print(\"Statistics saved to 'protocol_statistics.csv'.\")\n",
    "    except Exception as e:\n",
    "        print(f\"Error saving statistics to CSV: {e}\")\n",
    "        \n",
    "    # Print current working directory\n",
    "    print(f\"Current working directory: {os.getcwd()}\")\n",
    "    \n",
    "    # Check if packet_details is empty\n",
    "    if not packet_details:\n",
    "        print(\"No packet details to save.\")\n",
    "        return\n",
    "\n",
    "    # Visualization (optional)\n",
    "    protocols = list(protocol_count.keys())\n",
    "    counts = list(protocol_count.values())\n",
    "\n",
    "    plt.bar(protocols, counts)\n",
    "    plt.xlabel('Protocol')\n",
    "    plt.ylabel('Count')\n",
    "    plt.title('Packet Protocol Distribution')\n",
    "    plt.xticks(rotation=45)\n",
    "    plt.tight_layout()\n",
    "    plt.show()"
   ]
  },
  {
   "cell_type": "markdown",
   "metadata": {},
   "source": [
    "Check Available Interface"
   ]
  },
  {
   "cell_type": "code",
   "execution_count": null,
   "metadata": {},
   "outputs": [],
   "source": [
    "import psutil\n",
    "\n",
    "def list_network_interfaces():\n",
    "    interfaces = psutil.net_if_addrs()\n",
    "    print(\"Available interfaces:\")\n",
    "    for iface in interfaces:\n",
    "        print(iface)\n",
    "\n",
    "# Main execution\n",
    "list_network_interfaces()\n"
   ]
  },
  {
   "cell_type": "markdown",
   "metadata": {},
   "source": [
    "Sniffing and Displaying Statistics"
   ]
  },
  {
   "cell_type": "code",
   "execution_count": null,
   "metadata": {},
   "outputs": [],
   "source": [
    "print()\n",
    "print(\"Enter the interface name: \")\n",
    "interface = input()  # Replace with your network interface name\n",
    "try:\n",
    "    start_sniffing(interface)\n",
    "except KeyboardInterrupt:\n",
    "    print(\"\\nCapture stopped.\")\n",
    "    display_statistics()"
   ]
  },
  {
   "cell_type": "markdown",
   "metadata": {},
   "source": [
    "Creating CSV File"
   ]
  },
  {
   "cell_type": "code",
   "execution_count": null,
   "metadata": {},
   "outputs": [],
   "source": [
    "csv_file = 'D:/4th semester/CN_EL/Network_Traffic_Analyzer/protocol_statistics.csv'\n",
    "try:\n",
    "        with open(csv_file, 'w', newline='') as file:\n",
    "            writer = csv.DictWriter(file, fieldnames=['Packet Number', 'Source IP', 'Destination IP', 'Protocol', 'Size (bytes)', 'Time'])\n",
    "            writer.writeheader()\n",
    "            writer.writerows(packet_details)\n",
    "        print(f\"Statistics saved to '{csv_file}'.\")\n",
    "except Exception as e:\n",
    "        print(f\"Error saving statistics to CSV: {e}\")"
   ]
  }
 ],
 "metadata": {
  "kernelspec": {
   "display_name": "Python 3",
   "language": "python",
   "name": "python3"
  },
  "language_info": {
   "codemirror_mode": {
    "name": "ipython",
    "version": 3
   },
   "file_extension": ".py",
   "mimetype": "text/x-python",
   "name": "python",
   "nbconvert_exporter": "python",
   "pygments_lexer": "ipython3",
   "version": "3.12.4"
  }
 },
 "nbformat": 4,
 "nbformat_minor": 2
}
